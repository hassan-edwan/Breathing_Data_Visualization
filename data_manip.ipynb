{
 "cells": [
  {
   "cell_type": "code",
   "execution_count": 38,
   "metadata": {},
   "outputs": [],
   "source": [
    "import pandas as pd"
   ]
  },
  {
   "cell_type": "code",
   "execution_count": 66,
   "metadata": {},
   "outputs": [
    {
     "name": "stderr",
     "output_type": "stream",
     "text": [
      "C:\\Users\\hedwa\\AppData\\Local\\Temp\\ipykernel_39944\\1545891216.py:8: SettingWithCopyWarning: \n",
      "A value is trying to be set on a copy of a slice from a DataFrame.\n",
      "Try using .loc[row_indexer,col_indexer] = value instead\n",
      "\n",
      "See the caveats in the documentation: https://pandas.pydata.org/pandas-docs/stable/user_guide/indexing.html#returning-a-view-versus-a-copy\n",
      "  cleaned_data[\"time\"] = cleaned_data[\"time\"]  # Convert the time\n",
      "C:\\Users\\hedwa\\AppData\\Local\\Temp\\ipykernel_39944\\1545891216.py:20: FutureWarning: Setting an item of incompatible dtype is deprecated and will raise in a future error of pandas. Value '1690915015.04' has dtype incompatible with int64, please explicitly cast to a compatible dtype first.\n",
      "  cleaned_data.at[index, \"time\"] = (row[\"time\"] + increment)\n"
     ]
    },
    {
     "name": "stdout",
     "output_type": "stream",
     "text": [
      "['breathing' 'deep exhale' 'tilted head' 'swallowed' 'rubbed nose'\n",
      " 'smiling' 'switch balance' 'back to normal' 'started']\n"
     ]
    }
   ],
   "source": [
    "# Load the data\n",
    "data = pd.read_csv(\"team1_cleaned_data.csv\")\n",
    "metadata = pd.read_csv(\"team1_metadata.csv\")\n",
    "\n",
    "\n",
    "# Process the cleaned_data DataFrame\n",
    "cleaned_data = data[[\"time\", \"mod\"]]\n",
    "cleaned_data[\"time\"] = cleaned_data[\"time\"]  # Convert the time\n",
    "\n",
    "# Initialize the 'event' column in cleaned_data with default breathing\n",
    "cleaned_data[\"event\"] = \"breathing\"\n",
    "\n",
    "#convert the start and end times to integers\n",
    "metadata['start'] = pd.to_numeric(metadata['start'], errors='coerce').fillna(0).astype(int)\n",
    "metadata['end'] = pd.to_numeric(metadata['end'], errors='coerce').fillna(0).astype(int)\n",
    "\n",
    "#add increment to time\n",
    "for index, row in cleaned_data.iterrows():\n",
    "    increment = (index % 25) / 25  # Calculate the increment as 1/25, 2/25, ..., 25/25\n",
    "    cleaned_data.at[index, \"time\"] = (row[\"time\"] + increment)\n",
    "       \n",
    "   \n",
    "# Iterate over each row in metadata to apply the condition and assign the event\n",
    "for _, row in metadata.iterrows():\n",
    "    start_time = row['start']\n",
    "    end_time = row['end']\n",
    "    mask = (cleaned_data['time'] >= start_time) & (cleaned_data['time'] <= end_time)\n",
    "    cleaned_data.loc[mask, 'event'] = row['event']\n",
    "\n",
    "cleaned_data[\"time\"] = cleaned_data[\"time\"] - 1690915015\n",
    "cleaned_data[\"mod\"] = cleaned_data[\"mod\"] * - 1\n",
    "print(cleaned_data[\"event\"].unique())\n",
    "cleaned_data.to_csv(\"cleaned_data.csv\", index=False)"
   ]
  },
  {
   "cell_type": "code",
   "execution_count": null,
   "metadata": {},
   "outputs": [],
   "source": []
  },
  {
   "cell_type": "code",
   "execution_count": null,
   "metadata": {},
   "outputs": [],
   "source": []
  }
 ],
 "metadata": {
  "kernelspec": {
   "display_name": "Python 3",
   "language": "python",
   "name": "python3"
  },
  "language_info": {
   "codemirror_mode": {
    "name": "ipython",
    "version": 3
   },
   "file_extension": ".py",
   "mimetype": "text/x-python",
   "name": "python",
   "nbconvert_exporter": "python",
   "pygments_lexer": "ipython3",
   "version": "3.11.9"
  }
 },
 "nbformat": 4,
 "nbformat_minor": 2
}
